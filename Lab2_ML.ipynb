{
  "nbformat": 4,
  "nbformat_minor": 0,
  "metadata": {
    "colab": {
      "provenance": [],
      "authorship_tag": "ABX9TyOhD+10Y+quYwSntisLelAz",
      "include_colab_link": true
    },
    "kernelspec": {
      "name": "python3",
      "display_name": "Python 3"
    },
    "language_info": {
      "name": "python"
    }
  },
  "cells": [
    {
      "cell_type": "markdown",
      "metadata": {
        "id": "view-in-github",
        "colab_type": "text"
      },
      "source": [
        "<a href=\"https://colab.research.google.com/github/ananyag27/Machine-Learning-Lab/blob/main/Lab2_ML.ipynb\" target=\"_parent\"><img src=\"https://colab.research.google.com/assets/colab-badge.svg\" alt=\"Open In Colab\"/></a>"
      ]
    },
    {
      "cell_type": "code",
      "execution_count": 15,
      "metadata": {
        "colab": {
          "base_uri": "https://localhost:8080/"
        },
        "id": "7YBvxcxKMltq",
        "outputId": "e226e0e2-1f6f-4510-b861-9253a6897a49"
      },
      "outputs": [
        {
          "output_type": "stream",
          "name": "stdout",
          "text": [
            "The dimensionality of the 2 Columns are: \n",
            "(10, 3)\n",
            "(10, 1)\n"
          ]
        }
      ],
      "source": [
        "import pandas as pd\n",
        "import numpy as np\n",
        "data = pd.read_excel('/Lab Session Data.xlsx')\n",
        "A= data[['Candies (#)','Mangoes (Kg)','Milk Packets (#)']]\n",
        "C=data[['Payment (Rs)']]\n",
        "print(\"The dimensionality of the 2 Columns are: \")\n",
        "print(A.shape)\n",
        "print(C.shape)"
      ]
    },
    {
      "cell_type": "code",
      "source": [
        "print(\"Rank of the matrix is: \", np.linalg.matrix_rank(A))"
      ],
      "metadata": {
        "colab": {
          "base_uri": "https://localhost:8080/"
        },
        "id": "-7_-L03_UQ0V",
        "outputId": "09531cd8-562f-41f8-a650-7e2ec4ec23ff"
      },
      "execution_count": 17,
      "outputs": [
        {
          "output_type": "stream",
          "name": "stdout",
          "text": [
            "Rank of the matrix is:  3\n"
          ]
        }
      ]
    },
    {
      "cell_type": "code",
      "source": [
        "print(\"Inverse of matrix A is: \",np.linalg.pinv(A))\n",
        "print(\"Inverse of matrix C is: \",np.linalg.pinv(C))"
      ],
      "metadata": {
        "colab": {
          "base_uri": "https://localhost:8080/"
        },
        "id": "zfqC_embXRrU",
        "outputId": "1f510833-72c0-4b2b-9a5f-a719a46ab6be"
      },
      "execution_count": 26,
      "outputs": [
        {
          "output_type": "stream",
          "name": "stdout",
          "text": [
            "Inverse of matrix A is:  [[-0.01008596 -0.03124505  0.01013951  0.0290728   0.0182907   0.01161794\n",
            "  -0.00771348  0.00095458  0.01743623 -0.00542016]\n",
            " [ 0.09059668  0.07263726  0.03172933 -0.09071908 -0.01893196 -0.06926996\n",
            "   0.05675464  0.03152577 -0.07641966  0.00357352]\n",
            " [ 0.00299878  0.15874243 -0.05795468 -0.06609024 -0.06295043  0.03348017\n",
            "   0.01541831 -0.01070461  0.00029003  0.05938755]]\n",
            "Inverse of matrix C is:  [[0.00053988 0.00040421 0.00054967 0.00015385 0.00039162 0.00023357\n",
            "  0.00037903 0.00038323 0.000207   0.00027693]]\n"
          ]
        }
      ]
    },
    {
      "cell_type": "code",
      "source": [
        "X= np.dot(np.linalg.pinv(A), C)\n",
        "print(\"Model vector: \", X)"
      ],
      "metadata": {
        "colab": {
          "base_uri": "https://localhost:8080/"
        },
        "id": "cpY0cFCwah3V",
        "outputId": "805d2613-5f54-48a4-e8f6-685dc28b09c1"
      },
      "execution_count": 28,
      "outputs": [
        {
          "output_type": "stream",
          "name": "stdout",
          "text": [
            "Model vector:  [[ 1.]\n",
            " [55.]\n",
            " [18.]]\n"
          ]
        }
      ]
    },
    {
      "cell_type": "code",
      "source": [
        "data['Customer'] = np.where(data['Payment (Rs)'] > 200, 'RICH', 'POOR')\n",
        "X = data[['Candies (#)', 'Mangoes (Kg)', 'Milk Packets (#)']].values\n",
        "print(data[['Payment (Rs)', 'Customer']])"
      ],
      "metadata": {
        "colab": {
          "base_uri": "https://localhost:8080/"
        },
        "id": "z4Nlz8rxa34Q",
        "outputId": "e7a031ca-2717-4209-fd57-3c3beafdf2f6"
      },
      "execution_count": 37,
      "outputs": [
        {
          "output_type": "stream",
          "name": "stdout",
          "text": [
            "   Payment (Rs) Customer\n",
            "0           386     RICH\n",
            "1           289     RICH\n",
            "2           393     RICH\n",
            "3           110     POOR\n",
            "4           280     RICH\n",
            "5           167     POOR\n",
            "6           271     RICH\n",
            "7           274     RICH\n",
            "8           148     POOR\n",
            "9           198     POOR\n"
          ]
        }
      ]
    },
    {
      "cell_type": "code",
      "source": [
        "import statistics\n",
        "data = pd.read_excel('/Lab Session Data.xlsx', sheet_name= 'IRCTC Stock Price')\n",
        "price= data['Price']\n",
        "print(\"Mean: \", statistics.mean(price))\n",
        "print(\"Variance: \", statistics.variance(price))"
      ],
      "metadata": {
        "colab": {
          "base_uri": "https://localhost:8080/"
        },
        "id": "j2AE40lZdJnq",
        "outputId": "82779a40-fe52-41d6-ca6d-3c33cf0557e5"
      },
      "execution_count": 44,
      "outputs": [
        {
          "output_type": "stream",
          "name": "stdout",
          "text": [
            "Mean:  1560.663453815261\n",
            "Variance:  58732.365352539186\n"
          ]
        }
      ]
    },
    {
      "cell_type": "code",
      "source": [
        "wednesday = data[data['Day'] == 'Wed']['Price']\n",
        "wednesday_mean = statistics.mean(wednesday)\n",
        "print(\"Wednesday Mean:\", wednesday_mean)"
      ],
      "metadata": {
        "colab": {
          "base_uri": "https://localhost:8080/"
        },
        "id": "U7M0FT09gT8i",
        "outputId": "f804cf18-2583-4077-ff0c-e1a3aad0bbaa"
      },
      "execution_count": 52,
      "outputs": [
        {
          "output_type": "stream",
          "name": "stdout",
          "text": [
            "Wednesday Mean: 1550.706\n"
          ]
        }
      ]
    },
    {
      "cell_type": "code",
      "source": [],
      "metadata": {
        "id": "n-IUJuzJhJ6P"
      },
      "execution_count": null,
      "outputs": []
    }
  ]
}