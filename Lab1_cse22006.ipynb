{
  "nbformat": 4,
  "nbformat_minor": 0,
  "metadata": {
    "colab": {
      "provenance": [],
      "authorship_tag": "ABX9TyMN5TPZQgweBszj0lwamBFg",
      "include_colab_link": true
    },
    "kernelspec": {
      "name": "python3",
      "display_name": "Python 3"
    },
    "language_info": {
      "name": "python"
    }
  },
  "cells": [
    {
      "cell_type": "markdown",
      "metadata": {
        "id": "view-in-github",
        "colab_type": "text"
      },
      "source": [
        "<a href=\"https://colab.research.google.com/github/ananyag27/Machine-Learning-Lab/blob/main/Lab1_cse22006.ipynb\" target=\"_parent\"><img src=\"https://colab.research.google.com/assets/colab-badge.svg\" alt=\"Open In Colab\"/></a>"
      ]
    },
    {
      "cell_type": "code",
      "execution_count": null,
      "metadata": {
        "id": "t5OUaWFSI84k"
      },
      "outputs": [],
      "source": [
        "def counts(input_string):\n",
        "  vowel = \"aeiouAEIOU\"\n",
        "  consonant = \"bcdfghjklmnpqrstvwxyzBCDFGHJKLMNPQRSTVWXYZ\"\n",
        "  v=0\n",
        "  c=0\n",
        "  for ch in input_string:\n",
        "    if ch in vowel:\n",
        "      v=v+1\n",
        "    if ch in consonant:\n",
        "      c=c+1\n",
        "  return v, c\n",
        "\n",
        "\n",
        "input_string= input(\"Enter input string: \")\n",
        "vowel_num, cons_num= counts(input_string)\n",
        "print(\"Number of vowels in \", input_string, \"is\", vowel_num)\n",
        "print(\"Number of consonants in \", input_string, \"is\", cons_num)"
      ]
    },
    {
      "cell_type": "code",
      "source": [
        "def count_elements(l1, l2):\n",
        "  count = 0\n",
        "  for e1 in l1:\n",
        "    for e2 in l2:\n",
        "      if e1 == e2:\n",
        "        count += 1\n",
        "        break\n",
        "  return count\n",
        "l1 = []\n",
        "l2 = []\n",
        "n1 = int(input(\"Enter the number of elements in 1st list: \"))\n",
        "for i in range(n1):\n",
        "  e1 = int(input(\"Enter element: \"))\n",
        "  l1.append(e1)\n",
        "n2 = int(input(\"Enter the number of elements in 2nd list: \"))\n",
        "for i in range(n2):\n",
        "  e2 = int(input(\"Enter element: \"))\n",
        "  l2.append(e2)\n",
        "common = count_elements(l1, l2)\n",
        "print(\"Number of common elements:\", common)\n"
      ],
      "metadata": {
        "id": "f41B77TdYIRy"
      },
      "execution_count": null,
      "outputs": []
    },
    {
      "cell_type": "code",
      "source": [
        "def input_matrix():\n",
        "    rows = int(input(\"Enter rows: \"))\n",
        "    cols = int(input(\"Enter columns: \"))\n",
        "    matrix = []\n",
        "    for i in range(rows):\n",
        "        row = list(map(int, input(f\"Enter row {i + 1} values separated by space: \").split()))\n",
        "        if len(row) != cols:\n",
        "            print(\"Error\")\n",
        "            return None, None, None\n",
        "        matrix.append(row)\n",
        "    return matrix, rows, cols\n",
        "\n",
        "def transpose(matrix, rows, cols):\n",
        "    transpose_matrix = [[0 for _ in range(rows)] for _ in range(cols)]\n",
        "    for i in range(rows):\n",
        "        for j in range(cols):\n",
        "            transpose_matrix[j][i] = matrix[i][j]\n",
        "    return transpose_matrix\n",
        "\n",
        "def main():\n",
        "    print(\"Enter the matrix:\")\n",
        "    matrix, rows, cols = get_matrix_input()\n",
        "    if matrix is None:\n",
        "        return\n",
        "    transpose_matrix = transpose(matrix, rows, cols)\n",
        "    print(\"The transpose of the matrix is:\")\n",
        "    for row in transpose_matrix:\n",
        "        print(\" \".join(map(str, row)))\n",
        "if __name__ == \"__main__\":\n",
        "    main()"
      ],
      "metadata": {
        "id": "-eoz0ONRmUfg",
        "colab": {
          "base_uri": "https://localhost:8080/"
        },
        "outputId": "58884c59-3b86-4821-b05a-4c036983e608"
      },
      "execution_count": 10,
      "outputs": [
        {
          "output_type": "stream",
          "name": "stdout",
          "text": [
            "Enter the matrix:\n",
            "Enter the number of rows: 3\n",
            "Enter the number of columns: 3\n",
            "Enter row 1 values separated by space: 1 2 3\n",
            "Enter row 2 values separated by space: 4 5 6\n",
            "Enter row 3 values separated by space: 7 8 9\n",
            "The transpose of the matrix is:\n",
            "1 4 7\n",
            "2 5 8\n",
            "3 6 9\n"
          ]
        }
      ]
    }
  ]
}